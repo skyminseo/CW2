{
 "cells": [
  {
   "cell_type": "markdown",
   "id": "189097c3",
   "metadata": {},
   "source": [
    "### Image file detecting test (v1)\n",
    "Sequencial searching"
   ]
  },
  {
   "cell_type": "code",
   "execution_count": 7,
   "id": "2ae3c30b",
   "metadata": {},
   "outputs": [
    {
     "name": "stdout",
     "output_type": "stream",
     "text": [
      "Found a matching face in rs.jpg\n",
      "Found a matching face in js.jpg\n",
      "Found a matching face in jn.jpg\n",
      "Found a matching face in ls.jpg\n"
     ]
    }
   ],
   "source": [
    "import cv2\n",
    "import mediapipe as mp\n",
    "\n",
    "mp_face_detection = mp.solutions.face_detection\n",
    "mp_drawing = mp.solutions.drawing_utils\n",
    "\n",
    "def compare_faces(image_path, target_image_path):\n",
    "    image = cv2.imread(image_path)\n",
    "    target_image = cv2.imread(target_image_path)\n",
    "\n",
    "    with mp_face_detection.FaceDetection(\n",
    "            model_selection=1, min_detection_confidence=0.7) as face_detection:\n",
    "        image.flags.writeable = False\n",
    "        image = cv2.cvtColor(image, cv2.COLOR_BGR2RGB)\n",
    "        results = face_detection.process(image)\n",
    "\n",
    "        image.flags.writeable = True\n",
    "        image = cv2.cvtColor(image, cv2.COLOR_RGB2BGR)\n",
    "\n",
    "        if results.detections:\n",
    "            for detection in results.detections:\n",
    "                mp_drawing.draw_detection(image, detection)\n",
    "\n",
    "        cv2.imshow('MediaPipe Face Detection', cv2.resize(image, None, fx=0.5, fy=0.5))\n",
    "        cv2.waitKey(0)\n",
    "        cv2.destroyAllWindows()\n",
    "\n",
    "        return results.detections is not None\n",
    "\n",
    "target_image_path = 'js.jpg'\n",
    "image_paths = ['rs.jpg', 'js.jpg', 'jn.jpg', 'ls.jpg']  # Corrected the filename\n",
    "\n",
    "for image_path in image_paths:\n",
    "    if compare_faces(image_path, target_image_path):\n",
    "        print(f\"Found a matching face in {image_path}\")\n"
   ]
  },
  {
   "cell_type": "markdown",
   "id": "4e43c2a7",
   "metadata": {},
   "source": [
    "Parallel searching"
   ]
  },
  {
   "cell_type": "code",
   "execution_count": null,
   "id": "6e811842",
   "metadata": {},
   "outputs": [],
   "source": [
    "import cv2\n",
    "import mediapipe as mp\n",
    "from multiprocessing import Pool\n",
    "\n",
    "mp_face_detection = mp.solutions.face_detection\n",
    "mp_drawing = mp.solutions.drawing_utils\n",
    "\n",
    "def process_image(image_path):\n",
    "    image = cv2.imread(image_path)\n",
    "\n",
    "    with mp_face_detection.FaceDetection(\n",
    "            model_selection=1, min_detection_confidence=0.7) as face_detection:\n",
    "        image.flags.writeable = False\n",
    "        image = cv2.cvtColor(image, cv2.COLOR_BGR2RGB)\n",
    "        results = face_detection.process(image)\n",
    "\n",
    "        image.flags.writeable = True\n",
    "        image = cv2.cvtColor(image, cv2.COLOR_RGB2BGR)\n",
    "\n",
    "        if results.detections:\n",
    "            for detection in results.detections:\n",
    "                mp_drawing.draw_detection(image, detection)\n",
    "\n",
    "        cv2.imshow('MediaPipe Face Detection', cv2.resize(image, None, fx=0.5, fy=0.5))\n",
    "        cv2.waitKey(0)\n",
    "        cv2.destroyAllWindows()\n",
    "\n",
    "        return results.detections is not None\n",
    "\n",
    "target_image_path = 'target_js.jpg'\n",
    "image_paths = ['rs.jpg', 'js.jpg', 'jn.jpg', 'ls,jpg']\n",
    "\n",
    "with Pool() as pool:\n",
    "    results = pool.map(process_image, image_paths)\n",
    "\n",
    "for image_path, result in zip(image_paths, results):\n",
    "    if result:\n",
    "        print(f\"Found a matching face in {image_path}\")\n"
   ]
  },
  {
   "cell_type": "code",
   "execution_count": null,
   "id": "1be5bcc5",
   "metadata": {},
   "outputs": [],
   "source": []
  },
  {
   "cell_type": "code",
   "execution_count": null,
   "id": "f5018b0b",
   "metadata": {},
   "outputs": [],
   "source": []
  },
  {
   "cell_type": "code",
   "execution_count": null,
   "id": "ea21c09a",
   "metadata": {},
   "outputs": [],
   "source": []
  },
  {
   "cell_type": "code",
   "execution_count": null,
   "id": "30b43d73",
   "metadata": {},
   "outputs": [],
   "source": []
  },
  {
   "cell_type": "code",
   "execution_count": null,
   "id": "f8d622e8",
   "metadata": {},
   "outputs": [],
   "source": []
  }
 ],
 "metadata": {
  "kernelspec": {
   "display_name": "Python 3 (ipykernel)",
   "language": "python",
   "name": "python3"
  },
  "language_info": {
   "codemirror_mode": {
    "name": "ipython",
    "version": 3
   },
   "file_extension": ".py",
   "mimetype": "text/x-python",
   "name": "python",
   "nbconvert_exporter": "python",
   "pygments_lexer": "ipython3",
   "version": "3.10.9"
  }
 },
 "nbformat": 4,
 "nbformat_minor": 5
}
