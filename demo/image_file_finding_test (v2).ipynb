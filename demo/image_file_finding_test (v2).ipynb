{
 "cells": [
  {
   "cell_type": "markdown",
   "id": "445a8263",
   "metadata": {},
   "source": [
    "### image_file_finding_test (v2)"
   ]
  },
  {
   "cell_type": "code",
   "execution_count": 5,
   "id": "d657c40b",
   "metadata": {},
   "outputs": [
    {
     "name": "stdout",
     "output_type": "stream",
     "text": [
      "일치하는 얼굴 이미지 검색 완료!\n"
     ]
    }
   ],
   "source": [
    "import cv2\n",
    "import numpy as np\n",
    "\n",
    "def compare_faces(image_path, target_image_path, threshold=0.6):\n",
    "    # 얼굴 인식을 위한 Haar Cascade 분류기 로드\n",
    "    face_cascade = cv2.CascadeClassifier(cv2.data.haarcascades + 'haarcascade_frontalface_default.xml')\n",
    "\n",
    "    # 대상 이미지 로드 및 얼굴 검출\n",
    "    target_image = cv2.imread(target_image_path, 0)\n",
    "    target_faces = face_cascade.detectMultiScale(target_image)\n",
    "\n",
    "    # 특정 얼굴과 일치하는 이미지 찾기\n",
    "    for (x, y, w, h) in target_faces:\n",
    "        # 얼굴 ROI(region of interest) 추출\n",
    "        target_face = target_image[y:y + h, x:x + w]\n",
    "\n",
    "        # 이미지 파일 목록에서 얼굴과 일치하는 이미지 찾기\n",
    "        for image_file in image_path:\n",
    "            # 대상 이미지와 동일한 크기로 변환\n",
    "            image = cv2.imread(image_file, 0)\n",
    "            image = cv2.resize(image, (w, h))\n",
    "\n",
    "            # 템플릿 매칭 수행\n",
    "            result = cv2.matchTemplate(image, target_face, cv2.TM_CCOEFF_NORMED)\n",
    "            loc = np.where(result >= threshold)\n",
    "\n",
    "            # 매칭 결과 표시\n",
    "            if len(loc[0]) > 0:\n",
    "                print(f\"얼굴이 일치하는 이미지 파일: {image_file}\")\n",
    "\n",
    "    print(\"일치하는 얼굴 이미지 검색 완료!\")\n",
    "\n",
    "# 이미지 파일 경로 설정\n",
    "image_path = ['image1.jpg', 'image2.jpg', 'image3.jpg']  # 이미지 파일 목록\n",
    "target_image_path = 'target_image.jpg'  # 대상 이미지 파일\n",
    "\n",
    "# 일치하는 얼굴 이미지 검색\n",
    "compare_faces(image_path, target_image_path)\n"
   ]
  },
  {
   "cell_type": "code",
   "execution_count": null,
   "id": "8d673ae7",
   "metadata": {},
   "outputs": [],
   "source": []
  }
 ],
 "metadata": {
  "kernelspec": {
   "display_name": "Python 3 (ipykernel)",
   "language": "python",
   "name": "python3"
  },
  "language_info": {
   "codemirror_mode": {
    "name": "ipython",
    "version": 3
   },
   "file_extension": ".py",
   "mimetype": "text/x-python",
   "name": "python",
   "nbconvert_exporter": "python",
   "pygments_lexer": "ipython3",
   "version": "3.10.9"
  }
 },
 "nbformat": 4,
 "nbformat_minor": 5
}
