{
 "cells": [
  {
   "cell_type": "markdown",
   "id": "d9eacf05",
   "metadata": {},
   "source": [
    "Added function\n",
    "1. Detect multiple video files\n",
    "2. Print the number of face from each video file"
   ]
  },
  {
   "cell_type": "code",
   "execution_count": 1,
   "id": "ab41a05d",
   "metadata": {
    "scrolled": true
   },
   "outputs": [
    {
     "name": "stdout",
     "output_type": "stream",
     "text": [
      "Number of faces detected in conversation.mp4: 3\n",
      "Total execution time: 26.122710466384888 seconds\n"
     ]
    }
   ],
   "source": [
    "import cv2\n",
    "import mediapipe as mp\n",
    "import time\n",
    "\n",
    "mp_face_detection = mp.solutions.face_detection\n",
    "mp_drawing = mp.solutions.drawing_utils\n",
    "\n",
    "# def apply_face_mosaic(image, bbox):\n",
    "#     x, y, w, h = bbox\n",
    "#     roi = image[y:y+h, x:x+w]\n",
    "#     roi = cv2.resize(roi, (10, 10), interpolation=cv2.INTER_NEAREST)\n",
    "#     roi = cv2.resize(roi, (w, h), interpolation=cv2.INTER_NEAREST)\n",
    "#     image[y:y+h, x:x+w] = roi\n",
    "#     return image\n",
    "\n",
    "video_files = ['audience.mp4', 'street.mp4', 'conversation.mp4']  # List of video file paths\n",
    "\n",
    "# Iterate over the video files\n",
    "for video_file in video_files:\n",
    "    cap = cv2.VideoCapture(video_file)\n",
    "\n",
    "    # Initialize the Mediapipe face detection module\n",
    "    with mp_face_detection.FaceDetection(model_selection=1, min_detection_confidence=0.7) as face_detection:\n",
    "        num_detection = 0  # Initialize the counter for the number of detections\n",
    "        prev_faces = [] # List to store the previously detected face coordinates\n",
    "        \n",
    "        start_time = time.time() # Start measuring the execution time\n",
    "\n",
    "        while cap.isOpened() and num_detection < 30:\n",
    "            success, frame = cap.read()\n",
    "            if not success:\n",
    "                break\n",
    "\n",
    "            target_frame = frame.copy()  # copy frame\n",
    "\n",
    "            # Perform face detection using Mediapipe on the current frame\n",
    "            image = cv2.cvtColor(frame, cv2.COLOR_BGR2RGB)\n",
    "            results = face_detection.process(image)\n",
    "\n",
    "            # Draw face detection annotations on the frame and crop card region\n",
    "            if results.detections:\n",
    "                for detection in results.detections:\n",
    "                    mp_drawing.draw_detection(frame, detection)\n",
    "\n",
    "                    # Get the bounding box coordinates of the detected face\n",
    "                    bbox = detection.location_data.relative_bounding_box\n",
    "                    xmin, ymin, width, height = int(bbox.xmin * frame.shape[1]), int(bbox.ymin * frame.shape[0]), \\\n",
    "                                               int(bbox.width * frame.shape[1]), int(bbox.height * frame.shape[0])\n",
    "\n",
    "                    # Check if the current face overlaps with any previously detected faces\n",
    "                    is_duplicate = False\n",
    "                    for prev_face in prev_faces:\n",
    "                        if abs(xmin - prev_face[0]) < prev_face[2] and abs(ymin - prev_face[1]) < prev_face[3]:\n",
    "                            is_duplicate = True\n",
    "                            break\n",
    "\n",
    "                    if not is_duplicate:\n",
    "                        num_detection += 1\n",
    "                        consecutive_duplicates = 0\n",
    "                        while consecutive_duplicates < 2000:\n",
    "#                         num_detection += 1\n",
    "#                         consecutive_duplicates = 0\n",
    "\n",
    "                            # Crop the face region based on the face bounding box\n",
    "                            face_crop = frame[ymin:ymin + height, xmin:xmin + width]\n",
    "\n",
    "                            # Apply face mosaic to the cropped face region\n",
    "#                             face_crop = apply_face_mosaic(face_crop, (0, 0, width, height))\n",
    "\n",
    "                            cv2.imshow(f'face_crop_{num_detection}', face_crop)\n",
    "                            cv2.imwrite(f'face_crop_{num_detection}.png', face_crop)\n",
    "\n",
    "                            # Add the current face coordinates to the list of previously detected faces\n",
    "                            prev_faces.append((xmin, ymin, width, height))\n",
    "                        \n",
    "                            consecutive_duplicates += 1\n",
    "                            if consecutive_duplicates >= 2000:\n",
    "                                break\n",
    "\n",
    "            cv2.imshow('frame', frame)\n",
    "            # cv2.imshow('contour', target_frame)\n",
    "\n",
    "            if cv2.waitKey(1) == ord('q'):\n",
    "                break\n",
    "                                \n",
    "    end_time = time.time()  # Stop measuring the execution time\n",
    "\n",
    "cap.release()\n",
    "cv2.destroyAllWindows()\n",
    "        \n",
    "print(f\"Number of faces detected in {video_file}: {num_detection}\")\n",
    "\n",
    "execution_time = end_time - start_time\n",
    "print(\"Total execution time:\", execution_time, \"seconds\")\n"
   ]
  }
 ],
 "metadata": {
  "kernelspec": {
   "display_name": "Python 3 (ipykernel)",
   "language": "python",
   "name": "python3"
  },
  "language_info": {
   "codemirror_mode": {
    "name": "ipython",
    "version": 3
   },
   "file_extension": ".py",
   "mimetype": "text/x-python",
   "name": "python",
   "nbconvert_exporter": "python",
   "pygments_lexer": "ipython3",
   "version": "3.10.9"
  }
 },
 "nbformat": 4,
 "nbformat_minor": 5
}
